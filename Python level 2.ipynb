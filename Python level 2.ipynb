{
 "cells": [
  {
   "cell_type": "markdown",
   "metadata": {},
   "source": [
    "# TP2 : TEST CONDITIONNEL IF … ELSE\n"
   ]
  },
  {
   "cell_type": "markdown",
   "metadata": {},
   "source": [
    "## Rappel de maths\n",
    "### Réciproque du théorème de Pythagore\n",
    "Dans un triangle, si le carré de la longueur du plus long côté est égal à la somme des carrés des longueurs des 2 autres côtés alors ce triangle est rectangle.\n",
    "\n",
    "<img src='img\\pytha.jpg'>\n",
    "\n"
   ]
  },
  {
   "cell_type": "markdown",
   "metadata": {},
   "source": [
    "## EXERCICE 1 : DETECTEUR D’ANGLE DROIT\n",
    "\n",
    "On définit la fonction `triangle_rectangle()` suivante:\n",
    "\n",
    "La fonction `triangle_rectangle()` a 3 paramètres a,b,c.\n",
    "\n",
    "```python\n",
    "def triangle_rectangle(a, b, c):\n",
    "    if a**2 + b**2 == c**2:\n",
    "        reponse = true\n",
    "    else:\n",
    "        reponse = false\n",
    "    return reponse\n",
    "```\n",
    "Tester la fonction `triangle_rectangle()` dans la cellule ci après à l'aide des triangles rectangles ci dessous\n",
    "\n",
    "<img src='img\\triangles.jpg' width=\"300\" >\n",
    "\n",
    "Pour le bon fonctionnement de cette fonction, quelles conditions doivent respecter a, b et c?\n",
    "\n",
    " "
   ]
  },
  {
   "cell_type": "code",
   "execution_count": null,
   "metadata": {},
   "outputs": [],
   "source": [
    "# la fonction triangle_rectangle()\n",
    "def triangle_rectangle(a, b, c):\n",
    "    if a**2 + b**2 == c**2:\n",
    "        reponse = True\n",
    "    else:\n",
    "        reponse = False\n",
    "    return reponse\n",
    "\n",
    "# Appel de la fonction\n",
    "triangle_rectangle(3,4,5)\n"
   ]
  },
  {
   "cell_type": "markdown",
   "metadata": {},
   "source": [
    "Remarques: \n",
    "- De quel type est la réponse de  la fonction `triangle_rectangle` ? \n",
    "- Que signifie `True`  ou `False`  ?\n",
    "- Quel problème rencontre t'on si on appelle la fonction ainsi : triangle_rectangle(3, 5, 4) ?\n",
    "\n"
   ]
  },
  {
   "cell_type": "markdown",
   "metadata": {},
   "source": [
    "Un des inconvénients de ce programme est que l’utilisateur doit déterminer le plus grand des côtés du triangle.\n",
    "Il doit mettre dans les paramètres de la fonction les côtés du triangle dans le bon ordre.\n",
    "Si l'utilisateur se trompe, la fonction `triangle_rectangle` renvoie un résultat erroné.\n",
    "\n",
    "Pour éviter cela, il faut donc que Python classe les nombres tout seul.\n",
    "\n",
    "## EXERCICE 2 : LE MAXIMUM\n",
    "Voici un algorithme ci-dessous pour déterminer le maximum parmi 3 nombres.\n",
    "\n",
    "On suppose que a,b,c sont 3 variables qui ont été saisies par l’utilisateur\n",
    "```\n",
    "si a<b  alors\n",
    "\tsi b<c alors\n",
    "\t\tn←a\n",
    "\t\tm←b\n",
    "\t\tmaximum←c\n",
    "\tsinon\n",
    "\t\tn←a\n",
    "\t\tm←c\n",
    "\t\tmaximum←b\n",
    "sinon\n",
    "\tsi a<c alors\n",
    "\t\tn←a\n",
    "\t\tm←b\n",
    "\t\tmaximum←c\n",
    "\tsinon \n",
    "\t\tn←b\n",
    "\t\tm←c\n",
    "\t\tmaximum←a\n",
    "On retourne  maximum\n",
    "```\n",
    "\n",
    "Cet algorithme a été traduit en python. \n",
    "Malheureusement le programme en Python  a été tâché par du café (Ce n’est vraiment pas de chance !). \n",
    "<img src='img\\cafe.jpg' width=\"300\" >\n",
    "Reconstituez le, et testez le\n",
    "\n",
    "\n",
    "\n",
    "\n"
   ]
  },
  {
   "cell_type": "code",
   "execution_count": null,
   "metadata": {},
   "outputs": [],
   "source": [
    "# On définie la fonction maximum entre 3 nombres a,b,c\n",
    "def maximum(a,b,c):\n",
    "    \n",
    "    \n",
    "    \n",
    "    \n",
    "    \n",
    "    # écrire votre code ici\n",
    "    \n",
    "    \n",
    "    \n",
    "    \n",
    "    \n",
    "    return maximum\n",
    "\n",
    "#On appelle la fonction:\n",
    "maximum(2,10,5)   "
   ]
  },
  {
   "cell_type": "markdown",
   "metadata": {},
   "source": [
    "# EXERCICE 3 : DETECTEUR D’ANGLE DROIT VERSION 2 AMELIOREE\n",
    "En utilisant les 2 exercices précédents, écrire une fonction qui permet de savoir si un triangle est rectangle sans se soucier de savoir quelle est le plus grand côté.\n"
   ]
  },
  {
   "cell_type": "markdown",
   "metadata": {},
   "source": [
    "# EXERCICE 4 : DETECTEUR D’ANGLE DROIT VERSION 3\n",
    "En utilisant le TP précédent sur la distance entre 2 points et ce TP, écrire une fonction qui permet à partir des  coordonnées de 3 points et de savoir s’ils forment un triangle rectangle.\n"
   ]
  }
 ],
 "metadata": {
  "kernelspec": {
   "display_name": "Python 3",
   "language": "python",
   "name": "python3"
  },
  "language_info": {
   "codemirror_mode": {
    "name": "ipython",
    "version": 3
   },
   "file_extension": ".py",
   "mimetype": "text/x-python",
   "name": "python",
   "nbconvert_exporter": "python",
   "pygments_lexer": "ipython3",
   "version": "3.4.5"
  }
 },
 "nbformat": 4,
 "nbformat_minor": 2
}
